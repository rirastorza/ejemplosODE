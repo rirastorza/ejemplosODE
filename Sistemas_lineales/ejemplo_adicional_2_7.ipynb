{
 "cells": [
  {
   "cell_type": "markdown",
   "metadata": {
    "id": "O3_ev4-hCL_K"
   },
   "source": [
    "# Ejemplo adicional 2.7\n",
    "\n",
    "Nota: a este documento lo podremos ejecutar de manera dinámica si tienen instalado:\n",
    "\n",
    "- Python 3.5 o más nuevo instalado.\n",
    "- [Jupyter Notebook](https://jupyter.readthedocs.io/en/latest/install.html).\n",
    "\n",
    "\n",
    "Ejecutar este documento en forma dinámica: [![Open In Colab](https://colab.research.google.com/assets/colab-badge.svg)](https://colab.research.google.com/github/rirastorza/ejemplosODE/blob/master/Sistemas_lineales/ejemplo_adicional_2_7.ipynb)\n",
    "\n",
    "La visualización del mismo es óptima utilizando Jupyter Notebook.\n",
    "\n",
    "### Referencias\n",
    "\n",
    "- Naón, C. M., Rossignoli, R., & Santángelo, E. M. (2014). Ecuaciones diferenciales en Física. Editorial de la Universidad Nacional de La Plata (EDULP).\n",
    "\n",
    "- Edwards, C. H., & Penney, D. E. (2008). Elementary differential equations. Pearson Higher. Edición 6.\n"
   ]
  },
  {
   "cell_type": "code",
   "execution_count": 1,
   "metadata": {
    "colab": {
     "base_uri": "https://localhost:8080/",
     "height": 449
    },
    "id": "KtuZoSXbCQNu",
    "outputId": "45dd1e54-7a93-4d69-92ae-064b4807474e"
   },
   "outputs": [
    {
     "name": "stdout",
     "output_type": "stream",
     "text": [
      "La matriz A= [[ 3.  1. -2.]\n",
      " [ 4.  2.  1.]\n",
      " [-2.  3.  5.]]\n",
      "El determinante es: -33.0\n",
      "-------------------------\n",
      "La matriz A= [[ 1.  3.  1. -1.]\n",
      " [ 2.  1.  0.  1.]\n",
      " [ 0. -2.  2.  1.]\n",
      " [ 5.  4.  1.  0.]]\n",
      "El determinante es: 22.000000000000004\n",
      "-------------------------\n",
      "La matriz B= [[1. 3.]\n",
      " [2. 1.]]\n",
      "La inversa de B es= [[-0.2  0.6]\n",
      " [ 0.4 -0.2]]\n",
      "-------------------------\n",
      "La matriz C= [[0. 0. 0.]\n",
      " [1. 0. 2.]\n",
      " [0. 1. 1.]]\n",
      "Autovalores: [ 2. -1.  0.]\n",
      "Autovectores: [[ 0.          0.          0.81649658]\n",
      " [ 0.70710678  0.89442719  0.40824829]\n",
      " [ 0.70710678 -0.4472136  -0.40824829]]\n",
      "La matriz C= [[1. 2.]\n",
      " [2. 1.]]\n",
      "Autovales: [ 3. -1.]\n",
      "Autovectores: [[ 0.70710678 -0.70710678]\n",
      " [ 0.70710678  0.70710678]]\n",
      "-------------------------\n"
     ]
    }
   ],
   "source": [
    "#!/usr/bin/env python\n",
    "# -*- coding: utf-8 -*-\n",
    "\n",
    "\"\"\"\n",
    "Created on Sat Sep 03 10:13:41 2016\n",
    "\n",
    "Matrices y sistemas lineales\n",
    "(varios ejemplos)\n",
    "\n",
    "@author: Ramiro Irastorza\n",
    "\"\"\"\n",
    "\n",
    "import numpy as np\n",
    "\n",
    "\n",
    "#Cálculo del determinante de una matriz\n",
    "A = np.array([[3.0, 1.0, -2.0], [4.0, 2.0, 1.0], [-2.0, 3.0, 5.0]])\n",
    "print('La matriz A=',A)\n",
    "detA = np.linalg.det(A)\n",
    "print('El determinante es:',detA)\n",
    "print('-------------------------')\n",
    "\n",
    "\n",
    "#Cálculo del determinante de una matriz\n",
    "A = np.array([[1.0, 3.0, 1.0, -1.0], [2.0, 1.0, 0.0, 1.0], [0.0, -2.0, 2.0, 1.0], [5.0, 4.0, 1.0, 0.0]])\n",
    "print('La matriz A=',A)\n",
    "detA = np.linalg.det(A)\n",
    "print('El determinante es:',detA)\n",
    "print('-------------------------')\n",
    "\n",
    "#Inversa de una matriz\n",
    "B = np.array([[1.0, 3.0], [2.0, 1.0]])\n",
    "invB = np.linalg.inv(B)\n",
    "print('La matriz B=',B)\n",
    "print('La inversa de B es=',invB)\n",
    "print('-------------------------')\n",
    "\n",
    "#Autovalores y autovectores\n",
    "C = np.array([[0.0, 0.0, 0.0], [1.0, 0.0, 2.0], [0.0, 1.0, 1.0]])\n",
    "#Autovalores\n",
    "w,v = np.linalg.eig(C)\n",
    "print('La matriz C=',C)\n",
    "print('Autovalores:', w)\n",
    "print('Autovectores:', v)\n",
    "\n",
    "#Autovalores y autovectores\n",
    "D = np.array([[1.0, 2.0], [2.0, 1.0]])\n",
    "#Autovalores\n",
    "w,v = np.linalg.eig(D)\n",
    "print('La matriz C=',D)\n",
    "print('Autovales:', w)\n",
    "print('Autovectores:', v)\n",
    "print('-------------------------')\n"
   ]
  },
  {
   "cell_type": "code",
   "execution_count": null,
   "metadata": {},
   "outputs": [],
   "source": []
  }
 ],
 "metadata": {
  "colab": {
   "provenance": []
  },
  "kernelspec": {
   "display_name": "Python 3 (ipykernel)",
   "language": "python",
   "name": "python3"
  },
  "language_info": {
   "codemirror_mode": {
    "name": "ipython",
    "version": 3
   },
   "file_extension": ".py",
   "mimetype": "text/x-python",
   "name": "python",
   "nbconvert_exporter": "python",
   "pygments_lexer": "ipython3",
   "version": "3.10.12"
  }
 },
 "nbformat": 4,
 "nbformat_minor": 1
}
