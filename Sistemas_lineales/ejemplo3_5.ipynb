{
 "cells": [
  {
   "cell_type": "markdown",
   "metadata": {
    "id": "O3_ev4-hCL_K"
   },
   "source": [
    "# Ejemplo 3.5\n",
    "\n",
    "Nota: a este documento lo podremos ejecutar de manera dinámica si tienen instalado:\n",
    "\n",
    "- Python 3.5 o más nuevo instalado.\n",
    "- [Jupyter Notebook](https://jupyter.readthedocs.io/en/latest/install.html).\n",
    "\n",
    "\n",
    "Ejecutar este documento en forma dinámica: [![Open In Colab](https://colab.research.google.com/assets/colab-badge.svg)](https://colab.research.google.com/github/rirastorza/ejemplosODE/blob/master/Sistemas_lineales/ejemplo3_5.ipynb)\n",
    "\n",
    "La visualización del mismo es óptima utilizando Jupyter Notebook.\n",
    "\n",
    "### Referencias\n",
    "\n",
    "- Naón, C. M., Rossignoli, R., & Santángelo, E. M. (2014). Ecuaciones diferenciales en Física. Editorial de la Universidad Nacional de La Plata (EDULP).\n",
    "\n",
    "- Edwards, C. H., & Penney, D. E. (2008). Elementary differential equations. Pearson Higher. Edición 6.\n"
   ]
  },
  {
   "cell_type": "code",
   "execution_count": 1,
   "metadata": {
    "colab": {
     "base_uri": "https://localhost:8080/",
     "height": 449
    },
    "id": "KtuZoSXbCQNu",
    "outputId": "45dd1e54-7a93-4d69-92ae-064b4807474e"
   },
   "outputs": [
    {
     "data": {
      "image/png": "[encoded data removed]",
      "text/plain": [
       "<Figure size 432x288 with 1 Axes>"
      ]
     },
     "metadata": {
      "needs_background": "light"
     },
     "output_type": "display_data"
    }
   ],
   "source": [
    "\"\"\"\n",
    "Ecuacion diferencial:\n",
    "\n",
    "t**2x''-4tx'+6x = t**3\n",
    "\n",
    "@author: Ramiro Irastorza\n",
    "\"\"\"\n",
    "import numpy as np\n",
    "import matplotlib.pyplot as plt\n",
    "from scipy.integrate import odeint\n",
    "\n",
    "def funcion(y, t):\n",
    "    x1, x2 = y\n",
    "    dydt = [1.0*x2 , t+(4.0/t)*x2-(6.0/t**2.0)*x1]\n",
    "    return dydt\n",
    "\n",
    "#Constantes\n",
    "x10 = 0.0 #valor inicial\n",
    "x20 = 3.0 #valor inicial\n",
    "\n",
    "y0 = [x10, x20]\n",
    "\n",
    "t = np.linspace(1,10,num=100) # tiempo en que tendré la solución\n",
    "solnum = odeint(funcion,y0,t) # integrate\n",
    "\n",
    "ynum = solnum[:,0] \n",
    "\n",
    "#Solución teórica\n",
    "y = -3.0*t**2.0+3.0*t**3.0+t**2.0*(1.0-t)+t**3.0*np.log(t)\n",
    "\n",
    "# plot resultados\n",
    "plt.figure(1)\n",
    "plt.plot(t,ynum,'b.')\n",
    "plt.plot(t,y,'r-')\n",
    "#plt.plot(t,x3,'g-.')\n",
    "plt.xlabel('Tiempo (s)')\n",
    "plt.ylabel('x (m)')\n",
    "plt.legend(['Numerico','Teorico'])\n",
    "plt.show() "
   ]
  },
  {
   "cell_type": "code",
   "execution_count": null,
   "metadata": {},
   "outputs": [],
   "source": []
  }
 ],
 "metadata": {
  "colab": {
   "provenance": []
  },
  "kernelspec": {
   "display_name": "Python 3 (ipykernel)",
   "language": "python",
   "name": "python3"
  },
  "language_info": {
   "codemirror_mode": {
    "name": "ipython",
    "version": 3
   },
   "file_extension": ".py",
   "mimetype": "text/x-python",
   "name": "python",
   "nbconvert_exporter": "python",
   "pygments_lexer": "ipython3",
   "version": "3.10.12"
  }
 },
 "nbformat": 4,
 "nbformat_minor": 1
}
