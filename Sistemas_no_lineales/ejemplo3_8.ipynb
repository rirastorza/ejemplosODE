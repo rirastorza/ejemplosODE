{
 "cells": [
  {
   "cell_type": "markdown",
   "metadata": {
    "id": "O3_ev4-hCL_K"
   },
   "source": [
    "# Ejemplo 3.8\n",
    "\n",
    "Nota: a este documento lo podremos ejecutar de manera dinámica si tienen instalado:\n",
    "\n",
    "- Python 3.5 o más nuevo instalado.\n",
    "- [Jupyter Notebook](https://jupyter.readthedocs.io/en/latest/install.html).\n",
    "\n",
    "\n",
    "Ejecutar este documento en forma dinámica: [![Open In Colab](https://colab.research.google.com/assets/colab-badge.svg)](https://colab.research.google.com/github/rirastorza/ejemplosODE/blob/master/Sistemas_no_lineales/ejemplo3_8.ipynb)\n",
    "\n",
    "La visualización del mismo es óptima utilizando Jupyter Notebook.\n",
    "\n",
    "### Referencias\n",
    "\n",
    "- Naón, C. M., Rossignoli, R., & Santángelo, E. M. (2014). Ecuaciones diferenciales en Física. Editorial de la Universidad Nacional de La Plata (EDULP).\n",
    "\n",
    "- Edwards, C. H., & Penney, D. E. (2008). Elementary differential equations. Pearson Higher. Edición 6.\n"
   ]
  },
  {
   "cell_type": "code",
   "execution_count": 1,
   "metadata": {
    "colab": {
     "base_uri": "https://localhost:8080/",
     "height": 449
    },
    "id": "KtuZoSXbCQNu",
    "outputId": "45dd1e54-7a93-4d69-92ae-064b4807474e"
   },
   "outputs": [
    {
     "name": "stdout",
     "output_type": "stream",
     "text": [
      "autovalores: (array([2.00001275+0.00000000e+00j, 1.99999362+1.10421695e-05j,\n",
      "       1.99999362-1.10421695e-05j]), array([[-7.07124812e-01+0.00000000e+00j,  7.07097765e-01+3.12324696e-05j,\n",
      "         7.07097765e-01-3.12324696e-05j],\n",
      "       [-9.01543079e-06+0.00000000e+00j, -4.50788782e-06+7.80809251e-06j,\n",
      "        -4.50788782e-06-7.80809251e-06j],\n",
      "       [-7.07088750e-01+0.00000000e+00j,  7.07115797e-01+0.00000000e+00j,\n",
      "         7.07115797e-01-0.00000000e+00j]]))\n",
      "Rango: 3\n",
      "Rango: 2\n",
      "(A-lambdaI)^2: [[-1.  4.  1.]\n",
      " [ 0.  0.  0.]\n",
      " [-1.  4.  1.]]\n",
      "(A-lambdaI)^3: [[0. 0. 0.]\n",
      " [0. 0. 0.]\n",
      " [0. 0. 0.]]\n"
     ]
    }
   ],
   "source": [
    "\n",
    "\"\"\"\n",
    "Ejemplo 3.8, producto de matrices, calculo del rango, etc.\n",
    "\n",
    "@author: Ramiro Irastorza\n",
    "\"\"\"\n",
    "\n",
    "\n",
    "import numpy as np\n",
    "\n",
    "\n",
    "#Cálculo del determinante de una matriz\n",
    "A = np.array([[-2., 17., 4.], [-1.0, 6.0, 1.0], [0.0, 1.0, 2.0]])\n",
    "\n",
    "lam1 = np.linalg.eig(A)\n",
    "\n",
    "print('autovalores:', lam1)\n",
    "\n",
    "print('Rango:',np.linalg.matrix_rank(A))\n",
    "print('Rango:',np.linalg.matrix_rank(A-2*np.eye(3,3)))\n",
    "\n",
    "print('(A-lambdaI)^2:',np.linalg.matrix_power(A-2*np.eye(3,3),2))\n",
    "print('(A-lambdaI)^3:',np.linalg.matrix_power(A-2*np.eye(3,3),3))\n"
   ]
  },
  {
   "cell_type": "code",
   "execution_count": null,
   "metadata": {},
   "outputs": [],
   "source": []
  }
 ],
 "metadata": {
  "colab": {
   "provenance": []
  },
  "kernelspec": {
   "display_name": "Python 3 (ipykernel)",
   "language": "python",
   "name": "python3"
  },
  "language_info": {
   "codemirror_mode": {
    "name": "ipython",
    "version": 3
   },
   "file_extension": ".py",
   "mimetype": "text/x-python",
   "name": "python",
   "nbconvert_exporter": "python",
   "pygments_lexer": "ipython3",
   "version": "3.10.12"
  }
 },
 "nbformat": 4,
 "nbformat_minor": 1
}
